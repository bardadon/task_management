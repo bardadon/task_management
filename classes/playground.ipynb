{
 "cells": [
  {
   "cell_type": "code",
   "execution_count": 17,
   "metadata": {},
   "outputs": [
    {
     "name": "stdout",
     "output_type": "stream",
     "text": [
      "Connected to database\n"
     ]
    },
    {
     "ename": "TypeError",
     "evalue": "System.insert_project() takes 6 positional arguments but 7 were given",
     "output_type": "error",
     "traceback": [
      "\u001b[0;31m---------------------------------------------------------------------------\u001b[0m",
      "\u001b[0;31mTypeError\u001b[0m                                 Traceback (most recent call last)",
      "\u001b[1;32m/projects/task_management/classes/playground.ipynb Cell 1\u001b[0m in \u001b[0;36m1\n\u001b[1;32m      <a href='vscode-notebook-cell://wsl%2Bubuntu-22.04/projects/task_management/classes/playground.ipynb#W0sdnNjb2RlLXJlbW90ZQ%3D%3D?line=8'>9</a>\u001b[0m \u001b[39mfrom\u001b[39;00m \u001b[39mclasses\u001b[39;00m\u001b[39m.\u001b[39;00m\u001b[39msystem\u001b[39;00m \u001b[39mimport\u001b[39;00m System\n\u001b[1;32m     <a href='vscode-notebook-cell://wsl%2Bubuntu-22.04/projects/task_management/classes/playground.ipynb#W0sdnNjb2RlLXJlbW90ZQ%3D%3D?line=10'>11</a>\u001b[0m bar \u001b[39m=\u001b[39m User(name\u001b[39m=\u001b[39m\u001b[39m'\u001b[39m\u001b[39mbar\u001b[39m\u001b[39m'\u001b[39m, email\u001b[39m=\u001b[39m\u001b[39m'\u001b[39m\u001b[39mbar@bar.com\u001b[39m\u001b[39m'\u001b[39m, password\u001b[39m=\u001b[39m\u001b[39m'\u001b[39m\u001b[39mbar\u001b[39m\u001b[39m'\u001b[39m)\n\u001b[0;32m---> <a href='vscode-notebook-cell://wsl%2Bubuntu-22.04/projects/task_management/classes/playground.ipynb#W0sdnNjb2RlLXJlbW90ZQ%3D%3D?line=11'>12</a>\u001b[0m project \u001b[39m=\u001b[39m Project(\u001b[39m'\u001b[39;49m\u001b[39mProject 1\u001b[39;49m\u001b[39m'\u001b[39;49m, \u001b[39m'\u001b[39;49m\u001b[39mThis is a project\u001b[39;49m\u001b[39m'\u001b[39;49m, datetime\u001b[39m.\u001b[39;49mdatetime(\u001b[39m2023\u001b[39;49m,\u001b[39m1\u001b[39;49m,\u001b[39m1\u001b[39;49m), datetime\u001b[39m.\u001b[39;49mdatetime(\u001b[39m2023\u001b[39;49m,\u001b[39m1\u001b[39;49m,\u001b[39m1\u001b[39;49m), datetime\u001b[39m.\u001b[39;49mdatetime(\u001b[39m2023\u001b[39;49m,\u001b[39m1\u001b[39;49m,\u001b[39m1\u001b[39;49m))\n\u001b[1;32m     <a href='vscode-notebook-cell://wsl%2Bubuntu-22.04/projects/task_management/classes/playground.ipynb#W0sdnNjb2RlLXJlbW90ZQ%3D%3D?line=13'>14</a>\u001b[0m bar\u001b[39m.\u001b[39mprojects\n",
      "File \u001b[0;32m/projects/task_management/classes/project.py:26\u001b[0m, in \u001b[0;36mProject.__init__\u001b[0;34m(self, title, description, create_date, update_date, end_date)\u001b[0m\n\u001b[1;32m     23\u001b[0m \u001b[39mid\u001b[39m \u001b[39m=\u001b[39m last_id \u001b[39m+\u001b[39m \u001b[39m1\u001b[39m\n\u001b[1;32m     25\u001b[0m \u001b[39m# Insert project to db\u001b[39;00m\n\u001b[0;32m---> 26\u001b[0m Project\u001b[39m.\u001b[39;49msystem\u001b[39m.\u001b[39;49minsert_project(\u001b[39mid\u001b[39;49m, title, description, create_date, update_date, end_date) \n\u001b[1;32m     27\u001b[0m \u001b[39mself\u001b[39m\u001b[39m.\u001b[39m_id \u001b[39m=\u001b[39m \u001b[39mid\u001b[39m\n",
      "\u001b[0;31mTypeError\u001b[0m: System.insert_project() takes 6 positional arguments but 7 were given"
     ]
    }
   ],
   "source": [
    "import os\n",
    "import sys\n",
    "import datetime\n",
    "\n",
    "sys.path.append('/projects/task_management')\n",
    "\n",
    "from classes.project import Project\n",
    "from classes.user import User\n",
    "from classes.system import System\n",
    "\n",
    "bar = User(name='bar', email='bar@bar.com', password='bar')\n",
    "\n"
   ]
  },
  {
   "cell_type": "code",
   "execution_count": 20,
   "metadata": {},
   "outputs": [
    {
     "name": "stdout",
     "output_type": "stream",
     "text": [
      "Unexpected exception formatting exception. Falling back to standard exception\n"
     ]
    },
    {
     "name": "stderr",
     "output_type": "stream",
     "text": [
      "Traceback (most recent call last):\n",
      "  File \"/usr/local/lib/python3.10/dist-packages/IPython/core/interactiveshell.py\", line 3378, in run_code\n",
      "    exec(code_obj, self.user_global_ns, self.user_ns)\n",
      "  File \"/tmp/ipykernel_5608/3601285265.py\", line 1, in <module>\n",
      "    a = bar.create_project(title='bar', description='bar', end_date=datetime.datetime(2023,1,1))\n",
      "  File \"/projects/task_management/classes/user.py\", line 85, in create_project\n",
      "  File \"/projects/task_management/classes/project.py\", line 26, in __init__\n",
      "    Project.system.insert_project(id, title, description, create_date, update_date, end_date)\n",
      "TypeError: System.insert_project() takes 6 positional arguments but 7 were given\n",
      "\n",
      "During handling of the above exception, another exception occurred:\n",
      "\n",
      "Traceback (most recent call last):\n",
      "  File \"/usr/local/lib/python3.10/dist-packages/IPython/core/interactiveshell.py\", line 1997, in showtraceback\n",
      "    stb = self.InteractiveTB.structured_traceback(\n",
      "  File \"/usr/local/lib/python3.10/dist-packages/IPython/core/ultratb.py\", line 1112, in structured_traceback\n",
      "    return FormattedTB.structured_traceback(\n",
      "  File \"/usr/local/lib/python3.10/dist-packages/IPython/core/ultratb.py\", line 1006, in structured_traceback\n",
      "    return VerboseTB.structured_traceback(\n",
      "  File \"/usr/local/lib/python3.10/dist-packages/IPython/core/ultratb.py\", line 859, in structured_traceback\n",
      "    formatted_exception = self.format_exception_as_a_whole(etype, evalue, etb, number_of_lines_of_context,\n",
      "  File \"/usr/local/lib/python3.10/dist-packages/IPython/core/ultratb.py\", line 812, in format_exception_as_a_whole\n",
      "    frames.append(self.format_record(r))\n",
      "  File \"/usr/local/lib/python3.10/dist-packages/IPython/core/ultratb.py\", line 730, in format_record\n",
      "    result += ''.join(_format_traceback_lines(frame_info.lines, Colors, self.has_colors, lvals))\n",
      "  File \"/usr/local/lib/python3.10/dist-packages/stack_data/utils.py\", line 145, in cached_property_wrapper\n",
      "    value = obj.__dict__[self.func.__name__] = self.func(obj)\n",
      "  File \"/usr/local/lib/python3.10/dist-packages/stack_data/core.py\", line 734, in lines\n",
      "    pieces = self.included_pieces\n",
      "  File \"/usr/local/lib/python3.10/dist-packages/stack_data/utils.py\", line 145, in cached_property_wrapper\n",
      "    value = obj.__dict__[self.func.__name__] = self.func(obj)\n",
      "  File \"/usr/local/lib/python3.10/dist-packages/stack_data/core.py\", line 681, in included_pieces\n",
      "    pos = scope_pieces.index(self.executing_piece)\n",
      "  File \"/usr/local/lib/python3.10/dist-packages/stack_data/utils.py\", line 145, in cached_property_wrapper\n",
      "    value = obj.__dict__[self.func.__name__] = self.func(obj)\n",
      "  File \"/usr/local/lib/python3.10/dist-packages/stack_data/core.py\", line 660, in executing_piece\n",
      "    return only(\n",
      "  File \"/usr/local/lib/python3.10/dist-packages/executing/executing.py\", line 168, in only\n",
      "    raise NotOneValueFound('Expected one value, found 0')\n",
      "executing.executing.NotOneValueFound: Expected one value, found 0\n"
     ]
    }
   ],
   "source": [
    "a = bar.create_project(title='bar', description='bar', end_date=datetime.datetime(2023,1,1))"
   ]
  },
  {
   "cell_type": "code",
   "execution_count": 15,
   "metadata": {},
   "outputs": [
    {
     "ename": "TypeError",
     "evalue": "System.insert_project() takes 6 positional arguments but 7 were given",
     "output_type": "error",
     "traceback": [
      "\u001b[0;31m---------------------------------------------------------------------------\u001b[0m",
      "\u001b[0;31mTypeError\u001b[0m                                 Traceback (most recent call last)",
      "\u001b[1;32m/projects/task_management/classes/playground.ipynb Cell 3\u001b[0m in \u001b[0;36m3\n\u001b[1;32m      <a href='vscode-notebook-cell://wsl%2Bubuntu-22.04/projects/task_management/classes/playground.ipynb#W2sdnNjb2RlLXJlbW90ZQ%3D%3D?line=0'>1</a>\u001b[0m \u001b[39mfrom\u001b[39;00m \u001b[39mclasses\u001b[39;00m\u001b[39m.\u001b[39;00m\u001b[39mproject\u001b[39;00m \u001b[39mimport\u001b[39;00m Project\n\u001b[0;32m----> <a href='vscode-notebook-cell://wsl%2Bubuntu-22.04/projects/task_management/classes/playground.ipynb#W2sdnNjb2RlLXJlbW90ZQ%3D%3D?line=2'>3</a>\u001b[0m project \u001b[39m=\u001b[39m Project(\u001b[39m'\u001b[39;49m\u001b[39mProject 1\u001b[39;49m\u001b[39m'\u001b[39;49m, \u001b[39m'\u001b[39;49m\u001b[39mThis is a project\u001b[39;49m\u001b[39m'\u001b[39;49m)\n",
      "File \u001b[0;32m/projects/task_management/classes/project.py:26\u001b[0m, in \u001b[0;36mProject.__init__\u001b[0;34m(self, title, description, create_date, update_date, end_date)\u001b[0m\n\u001b[1;32m     23\u001b[0m \u001b[39mid\u001b[39m \u001b[39m=\u001b[39m last_id \u001b[39m+\u001b[39m \u001b[39m1\u001b[39m\n\u001b[1;32m     25\u001b[0m \u001b[39m# Insert project to db\u001b[39;00m\n\u001b[0;32m---> 26\u001b[0m Project\u001b[39m.\u001b[39;49msystem\u001b[39m.\u001b[39;49minsert_project(\u001b[39mid\u001b[39;49m, title, description, create_date, update_date, end_date) \n\u001b[1;32m     27\u001b[0m \u001b[39mself\u001b[39m\u001b[39m.\u001b[39m_id \u001b[39m=\u001b[39m \u001b[39mid\u001b[39m\n",
      "\u001b[0;31mTypeError\u001b[0m: System.insert_project() takes 6 positional arguments but 7 were given"
     ]
    }
   ],
   "source": [
    "from classes.project import Project\n",
    "\n",
    "project = Project('Project 1', 'This is a project')"
   ]
  },
  {
   "cell_type": "code",
   "execution_count": null,
   "metadata": {},
   "outputs": [],
   "source": []
  },
  {
   "cell_type": "code",
   "execution_count": null,
   "metadata": {},
   "outputs": [],
   "source": []
  },
  {
   "cell_type": "code",
   "execution_count": null,
   "metadata": {},
   "outputs": [],
   "source": []
  },
  {
   "cell_type": "code",
   "execution_count": null,
   "metadata": {},
   "outputs": [],
   "source": []
  },
  {
   "cell_type": "code",
   "execution_count": null,
   "metadata": {
    "vscode": {
     "languageId": "shellscript"
    }
   },
   "outputs": [],
   "source": [
    "# use git to push to github\n",
    "\n",
    "# Path: classes/playground.ipynb\n",
    "\n",
    "# first step: git init\n",
    "\n",
    "# second step: git add .\n",
    "\n",
    "# third step: git commit -m \"first commit\"\n",
    "\n",
    "# fourth step: git remote add origin \n",
    "\n",
    "# fifth step: git push -u origin master\n",
    "\n",
    "# Path: classes/playground.ipynb\n"
   ]
  },
  {
   "cell_type": "code",
   "execution_count": null,
   "metadata": {},
   "outputs": [],
   "source": []
  },
  {
   "cell_type": "code",
   "execution_count": 21,
   "metadata": {},
   "outputs": [],
   "source": [
    "import pandas as pd\n",
    "import numpy as np\n",
    "import requests\n",
    "from bs4 import BeautifulSoup\n",
    "\n",
    "class whisky_web_scraping():\n",
    "    \n",
    "    def scrape_html(self,base_url, page):\n",
    "        '''\n",
    "        Sending a GET request to https://www.thewhiskyexchange.com/ and creating a Beautiful Soup object.\n",
    "        \n",
    "        Args:\n",
    "            base_url(String)              \n",
    "            page(Int) - Which page to scrape.\n",
    "            \n",
    "        Returns\n",
    "            soup(BeautfulSoup Object)         \n",
    "        '''\n",
    "        \n",
    "        self.base_url = base_url\n",
    "        self.page = page\n",
    "\n",
    "        url = base_url + str(page)\n",
    "        r = requests.get(url)\n",
    "        soup = BeautifulSoup(r.content, 'lxml')\n",
    "\n",
    "        return soup\n",
    "    \n",
    "    def get_page_content(self, soup):\n",
    "        '''\n",
    "        Extract from soup all the html object of type div and of class product-card__content.\n",
    "        \n",
    "        Args:\n",
    "            soup(BeatifulSoup Object)\n",
    "            \n",
    "        Returns:\n",
    "            proudcts_info_content(List of html objects) - List of div objects that contain the name of the beverage, the alcohol amount and percent.\n",
    "        \n",
    "        '''\n",
    "        self.soup = soup\n",
    "        \n",
    "        proudcts_info_content = soup.find_all('div', class_ = 'product-card__content')\n",
    "        return proudcts_info_content\n",
    "        \n",
    "    \n",
    "    def get_page_price(self, soup):\n",
    "        '''\n",
    "        Extract from soup all the html object of type div and of class product-card__data.\n",
    "        \n",
    "        Args:\n",
    "            soup(BeatifulSoup Object)\n",
    "            \n",
    "        Returns:\n",
    "            proudcts_info_data(List of html objects) - List of div objects that contain the price of the beverage.\n",
    "        \n",
    "        '''\n",
    "        self.soup = soup\n",
    "\n",
    "        proudcts_info_price = soup.find_all('div', class_ = 'product-card__data')\n",
    "        return proudcts_info_price\n",
    "\n",
    "    \n",
    "    def get_product_name(self, proudcts_info_content):\n",
    "        '''\n",
    "        Extract the name of product.\n",
    "        \n",
    "        Args:\n",
    "            proudcts_info_content(String) - The div object of class product-card__content.\n",
    "        \n",
    "        Returns:\n",
    "            product_name(List) - A list of names.\n",
    "        '''\n",
    "        \n",
    "        self.proudcts_info_content = proudcts_info_content        \n",
    "    \n",
    "        product_name = []\n",
    "        \n",
    "        # Iterate through each product in the webpage \n",
    "        for product in range(len(proudcts_info_content)):\n",
    "            \n",
    "            # Extract the first class P - Which holds the name of the beverage\n",
    "            name_p = proudcts_info_content[product].find_all('p')[0]\n",
    "            \n",
    "            # Extract the contents of the first paragraphs - the name of the beverage       \n",
    "            alcohol_name = name_p.contents[0].strip()\n",
    "            \n",
    "            # Append each name to the list\n",
    "            product_name.append(alcohol_name)\n",
    "            \n",
    "        return product_name\n",
    "\n",
    "    def get_product_alcohol_percent(self, proudcts_info_content):\n",
    "        '''\n",
    "        Extract the alcohol percent of product.\n",
    "        \n",
    "        Args:\n",
    "            proudcts_info_content(String) - The div object of class product-card__content.\n",
    "        \n",
    "        Returns:\n",
    "            product_al_percent(List) - A list of alcohol percent.\n",
    "        '''\n",
    "        \n",
    "        self.proudcts_info_content = proudcts_info_content        \n",
    "    \n",
    "        product_al_percent = []\n",
    "        \n",
    "        # Iterate through each product in the webpage \n",
    "        for product in range(len(proudcts_info_content)):\n",
    "            \n",
    "            # Extract the second class P - Which holds the alcohol values\n",
    "            al_p = proudcts_info_content[product].find_all('p')[1]\n",
    "            \n",
    "            # Apply string manupulation to extract the alcohol percent\n",
    "            alcohol_percent_str = al_p.contents[0].strip()\n",
    "            start_location_percent = alcohol_percent_str.find('/ ') \n",
    "            end_location_percent = alcohol_percent_str.find('%')\n",
    "            alcohol_percent = alcohol_percent_str[start_location_percent + 2:end_location_percent]\n",
    "            \n",
    "            # Append each alcohol percent to the list\n",
    "            product_al_percent.append(alcohol_percent)\n",
    "            \n",
    "        return product_al_percent\n",
    "    \n",
    "    \n",
    "    def get_product_alcohol_amount(self, proudcts_info_content):\n",
    "        '''\n",
    "        Extract the alcohol amount of product.\n",
    "        \n",
    "        Args:\n",
    "            proudcts_info_content(String) - The div object of class product-card__content.\n",
    "        \n",
    "        Returns:\n",
    "            product_al_percent(List) - A list of alcohol amount.\n",
    "        '''\n",
    "        self.proudcts_info_content = proudcts_info_content        \n",
    "\n",
    "        product_al_amount = []\n",
    "        \n",
    "        # Iterate through each product in the webpage \n",
    "        for product in range(len(proudcts_info_content)):\n",
    "            \n",
    "            # Extract the second class P - Which holds the alcohol values\n",
    "            al_p = proudcts_info_content[product].find_all('p')[1]\n",
    "            \n",
    "            # Apply string manupulation to extract the alcohol amount\n",
    "            alcohol_percent_str = al_p.contents[0].strip()\n",
    "            start_location_amount = 0\n",
    "            end_location_amount = alcohol_percent_str.find('cl')\n",
    "            alcohol_amount = alcohol_percent_str[start_location_amount:end_location_amount]\n",
    "            \n",
    "            # Append each alcohol amount to the list\n",
    "            product_al_amount.append(alcohol_amount)\n",
    "            \n",
    "        return product_al_amount\n",
    "    \n",
    "    def get_product_price(self, proudcts_info_price):\n",
    "        '''\n",
    "        Extract the price of product.\n",
    "        \n",
    "        Args:\n",
    "            proudcts_info_content(String) - The div object of class product-card__data.\n",
    "        \n",
    "        Returns:\n",
    "            product_price(List) - A list of prices.\n",
    "        '''\n",
    "        self.proudcts_info_price = proudcts_info_price\n",
    "    \n",
    "        product_price = []\n",
    "        \n",
    "        # Iterate through each product in the webpage \n",
    "        for product in range(len(proudcts_info_price)):\n",
    "            \n",
    "            # Extract the price for each product \n",
    "            alcohol_price = proudcts_info_price[product].contents[0].contents[0].replace('£','').strip()\n",
    "            \n",
    "            # Append each alcohol price to the list\n",
    "            product_price.append(alcohol_price)\n",
    "            \n",
    "        return product_price\n",
    "    \n",
    "    def create_df(self, names, alcohol_amount, alcohol_percent, price):\n",
    "        '''\n",
    "        Create a DataFrame that will hold the extracted data.\n",
    "        \n",
    "        Args:\n",
    "            names(List) - A list of of product names.  \n",
    "            alcohol_amount(List) - A list of of product alcohol amounts.  \n",
    "            alcohol_percent(List) - A list of of product alcohol percent.  \n",
    "            price(List) - A list of of product prices.  \n",
    "        \n",
    "        Returns:\n",
    "            original_df(DataFrame)\n",
    "        '''\n",
    "        \n",
    "        \n",
    "        self.names = names\n",
    "        self.alcohol_amount = alcohol_amount\n",
    "        self.alcohol_percent = alcohol_percent\n",
    "        self.price = price\n",
    "        \n",
    "        # Create a DataFrame\n",
    "        original_df = pd.DataFrame(names, columns=['Product_Name'])\n",
    "        original_df['Alcohol_Percent'] = alcohol_percent\n",
    "        original_df['Alcohol_Amount'] = alcohol_amount\n",
    "        original_df['Alcohol_Price'] = price\n",
    "        \n",
    "        return original_df"
   ]
  },
  {
   "cell_type": "code",
   "execution_count": 61,
   "metadata": {},
   "outputs": [
    {
     "data": {
      "text/plain": [
       "403"
      ]
     },
     "execution_count": 61,
     "metadata": {},
     "output_type": "execute_result"
    }
   ],
   "source": [
    "url = 'https://www.thewhiskyexchange.com/c/40/single-malt-scotch-whisky?pg=1'\n",
    "headers = {'User-Agent': 'Mozilla/5.0', 'Content-Type': 'text/html'}\n",
    "\n",
    "response = requests.get(url, headers=headers)\n",
    "response.status_code"
   ]
  },
  {
   "cell_type": "code",
   "execution_count": 54,
   "metadata": {},
   "outputs": [
    {
     "data": {
      "text/plain": [
       "200"
      ]
     },
     "execution_count": 54,
     "metadata": {},
     "output_type": "execute_result"
    }
   ],
   "source": []
  },
  {
   "cell_type": "code",
   "execution_count": 33,
   "metadata": {},
   "outputs": [],
   "source": [
    "scraper = whisky_web_scraping()\n",
    "\n",
    "# Generate a BeautifulSoup object\n",
    "soup = scraper.scrape_html(base_url = 'https://www.thewhiskyexchange.com/c/40/single-malt-scotch-whisky?pg='\n",
    "\t\t\t\t\t\t\t\t\t\t\t\t\t,page = 1)"
   ]
  },
  {
   "cell_type": "code",
   "execution_count": 34,
   "metadata": {},
   "outputs": [
    {
     "data": {
      "text/plain": [
       "<!DOCTYPE html>\n",
       "<html lang=\"en-US\">\n",
       "<head>\n",
       "<title>Just a moment...</title>\n",
       "<meta content=\"text/html; charset=utf-8\" http-equiv=\"Content-Type\"/>\n",
       "<meta content=\"IE=Edge\" http-equiv=\"X-UA-Compatible\"/>\n",
       "<meta content=\"noindex,nofollow\" name=\"robots\"/>\n",
       "<meta content=\"width=device-width,initial-scale=1\" name=\"viewport\"/>\n",
       "<link href=\"/cdn-cgi/styles/challenges.css\" rel=\"stylesheet\"/>\n",
       "</head>\n",
       "<body class=\"no-js\">\n",
       "<div class=\"main-wrapper\" role=\"main\">\n",
       "<div class=\"main-content\">\n",
       "<noscript>\n",
       "<div id=\"challenge-error-title\">\n",
       "<div class=\"h2\">\n",
       "<span class=\"icon-wrapper\">\n",
       "<div class=\"heading-icon warning-icon\"></div>\n",
       "</span>\n",
       "<span id=\"challenge-error-text\">\n",
       "                        Enable JavaScript and cookies to continue\n",
       "                    </span>\n",
       "</div>\n",
       "</div>\n",
       "</noscript>\n",
       "<div id=\"trk_jschal_js\" style=\"display:none;background-image:url('/cdn-cgi/images/trace/captcha/nojs/transparent.gif?ray=7cbc540a88c67d98')\"></div>\n",
       "<form action=\"/c/40/single-malt-scotch-whisky?pg=1&amp;__cf_chl_f_tk=Mi1vlkgG49ExGuNtTTZVNw8QjPZGL.rx0ddyzjEaYOA-1684834730-0-gaNycGzNChA\" enctype=\"application/x-www-form-urlencoded\" id=\"challenge-form\" method=\"POST\">\n",
       "<input name=\"md\" type=\"hidden\" value=\"h9uTm2RxYnXsZQ9a4cCS7CgYw9tJNfry6UUZxoRaVEk-1684834730-0-AcpookENvc0_bhaSll5MAPT91MwIc5bi9UwIuX8XFDvERl-WyUQR5MDDq5fYkBBFDExPz8FZGWi5ckgBMLoxeY7iZ_SewjC1HPmx_fMYujlOz-Vz6CA6qR35gOIw1Zmx7DNvY73WUPTT3nL_WWcP7tWegTBsmorm-ZOEjUWLW1P2RRdG0wDCMKdNaFrODvyCbZjwVW29jue9y6rkdGrAxTgIYvRbxOIgU5x2iSlNwo7AKMfg0qjx4O8MwfU5Km5id7cTREjQAdox18faA9PfQ68VoJSe9mwWBH6MEhLMnhQcdG2IG2mEuFbJmSOU2gLk0y52zWu-L6D_AYHqj74xynXsDdDibBqrG4_q1xT0a_IJ7_tcYETYKgpNYE1IBNWDhgSZfgDBfTkvq5lO_m0e4pOn4jnpliCN9IpO1LP-4PiTCSjXdMQVR49HE8PGCrjHaHjityvIRXL1eakBM_X_HfjdwU7gahBI8nDGvCSVGB9ok4HSfQSPR0IlxDQ995bVZwTZORn9UPZ2ogKkgZ79dx5A6g7txOeP9YzDI8h8yr9hpNtARCfIPfiTPBuv-ritTlC-4kN5IVJ1nr72OWEumZLEHjKJgS_Bx1NTKeN7i53CxNkavLmD0I2YcFlJNUzehVzIykyRWAYbman5Wu7pM841YkC8Fyit8svc-MioiQXFSdYnW27E8nScIbqc8jPtF2-cgo8AsuvpsNXAMsoH2cW82MRefmaLwMe9RI-ctuIwZwwb97AW8QHTkjnL7jZnEDq4QOn31aTh2VM2SFyQbARmKm14TJKJ0uDq5V4nepOgH1ps1s5YXnMFYJyh6sdBd-XX6gT_eKy-a-2-pLU1iq4hZSxig0Ha4lXj8c5Ckx7e2iBHoNtnHAWFDSK7I53ImSFHa9RhUrcM1C8zHraYAVc8-3xjXybBBCN6sEKVLcV0ja08ws1ciJVXZCEdeKADWn8B6RXjpsJjJD93GHtUTeZTd8MN3PXlBn0BMMtMXC3qLtsHx4XXtV2pCi0NHlyrKzvBYiRkcVTIJh_y2vtg5CefrxOK2mL9ZnxPJ_GdMJx0iBOkxw9j7WwXcU3JS4hXHrMBVCclPl7CzZ8ea8t9-J9scyabJRwjPs06t3-vKlFJ-zjU5iCe1HFQMV9_6t-CSZXovCFAPVplX-kAJDsD3PYshC73dsAZmZf36ubHoMenO-5dlogxqQ1TPlMbXIrAAP6j607CBW6aGCuxX9klXdi9OoZlzlspcB0aPRtav-5Gnl_BcKfDJ_dk-1QfVx98JWGbZUVG60-jAgyJ4BTOVR7isqKZoFY_9Q3mCgo2X9_9btkYSooG67u4szZTasBDRF43bVmZeY23rxthTdVEwPNkiIsH5WGlpYMS-eCHde7HE2X3qS-zgJAQ1YJ8BKjp7ZySJ8vooFVu70Qei9JzqrZgkLH6nKRRAZ1NQgZSYm2DGqFRFPodZP_SSFnAW5GU42S5-AIFI4jUVQt9JT1OmnSu2OD65dAEA8hm8hoZVQnvEc_fA_XaxtdfVvvd9ZW5eaL7jn2emfR9VMJxHeSrn4svOWTEDE1e0t3x4odOI5Q5YYZKWfHOyuuXvjk_N5lE7vQ3Ilk2u0MHSaIJWrQZ0YvQMsynciSOg6gh2ACM23zdvHJdKnQ7RpyW1s-xth3NvUYuZpsR9yvK2aHNEthGo7L-l5You35v_aQdhJKMRQtwmbs9hDaYNE9ISjEFc5nDOnwQWwJWJCjCQ9GskN2cJVQ4ENofP_niW2jhSPMBsKboqSHD9HbZvKmGIQ05W7nQ2U6xCJnjBYyQ4zMXIxUWytEsDdK6SY68wGANbyZKCjAMh-8xXdf8XRkgB09HMBQCsXn7aK2QzPHtH7VTof0QPCIVf5nUP92HspSmaUrAAklQH5TpyFpgimADs5-5e7OKbco_3YvYZtaBqm8fD_JD9DifZK3jZQsnu3kItYnC_VqA9_OulAJAedfE-iSai_lv33KX5nRzroV96WzVbyztp_ymqk6M6ph2A4JTirW_rr8mf5MZWPfTGYuvWwZa28XETv0boi9M0sBguEVILw3vdIIJ1n7bnbJhiXJboVo6k7rD-ErtdSmyTQEhTHhwO1j7QIVyR1bo_ZvrK9DjSlkaunpLO933x9fWoJRP9FTNJ8yI_cI7g4OTSTnRf14T3DFJqq4HT-FoUBB2wNedAOthb9OPRLp4KjME0BDg5gdKVmXIkNTRPwf699LR1KBlz0RunDS8RDzSg8-gUKHPlXOyYZEKWYJeY7SLcNyHEYKqbK8-Oo4N3d4ktrePmb5c80Bh0HpPPfFHet2NONwj7AN3RZqIQsOF4w0LbCaQyzVKtR8CIZFQiNBjEJI5D98G-eI0FIU0nulat8m_2nfCWFkV8y86WVjIyrnO3sULNTeD46g7jYxWAA_-eoeyxvimifvw9vvfpj1YXud7Q2rHj7zrt_Bim9QxtPBORcadWe1DbyOcX4rSMVkteKavwzLfSY8MtTXTlFb51F-ZgglxhJWcGD4\"/>\n",
       "</form>\n",
       "</div>\n",
       "</div>\n",
       "<script>\n",
       "    (function(){\n",
       "        window._cf_chl_opt={\n",
       "            cvId: '2',\n",
       "            cZone: 'www.thewhiskyexchange.com',\n",
       "            cType: 'interactive',\n",
       "            cNounce: '49586',\n",
       "            cRay: '7cbc540a88c67d98',\n",
       "            cHash: '906a7862d9b7eab',\n",
       "            cUPMDTk: \"\\/c\\/40\\/single-malt-scotch-whisky?pg=1&__cf_chl_tk=Mi1vlkgG49ExGuNtTTZVNw8QjPZGL.rx0ddyzjEaYOA-1684834730-0-gaNycGzNChA\",\n",
       "            cFPWv: 'g',\n",
       "            cTTimeMs: '1000',\n",
       "            cMTimeMs: '0',\n",
       "            cTplV: 5,\n",
       "            cTplB: 'cf',\n",
       "            cK: \"\",\n",
       "            cRq: {\n",
       "                ru: 'aHR0cHM6Ly93d3cudGhld2hpc2t5ZXhjaGFuZ2UuY29tL2MvNDAvc2luZ2xlLW1hbHQtc2NvdGNoLXdoaXNreT9wZz0x',\n",
       "                ra: 'cHl0aG9uLXJlcXVlc3RzLzIuMjguMQ==',\n",
       "                rm: 'R0VU',\n",
       "                d: '1HZ6kamjVcUr1erLKD5BMUdQO6+rZIRko5JT6VuW74ytePCOHdUcLzDqd1qKvEmqCoxhUHtEzZa4WFm552nh4oxTz1c94zUc1PHgb2SqKvWnJeRD+E+218YnSDWPtGZAHKn/TWwce/5JcFrEPeRgQWcmOIrGyT0CXLk7BjxJfZFYbLGsotUxv5LRh5IAqA5CAgpdzZSoJbT7vDl3PIerf3fIBFlPk1yXEU4gVr1sbKQIs63kgVpn1WX0oUWwh0kIVfRiFRZXiWbr7zD4umv12gU5r327LF9lla/sBb/MReMEvXmmAJgUHWbi7e1QljHx9t3k7/tAwkKHzDUoQqNNBurYTTN0XCRRnawdFcC5LaxKFopdlR1EgQQ9uY2gR2UXHpg0WQ040dBaUhdcZWqniW23bmwA6roaqlCkO07jYnP09JuHXs5chBnBDsSj5dK5i3IFcYMCQVc1QB+3+JdKc7hutpIRzB3iWoCtGDJDmO7RbMuNsPgvTt2K3kveWzDrd9sMfLdIOVUjd8L4iXNEuG9o0+aP49GB92IIM7ZPr/jQ+YPCMyzbtshfXCj1RksSGxA4VikvBoiqK5r96QCNrQ==',\n",
       "                t: 'MTY4NDgzNDczMC42NTUwMDA=',\n",
       "                m: '3UgYI3mBgSUcEGA9ewbqvzZp8DYd/ExOzq/Xvjh+YEM=',\n",
       "                i1: 'lTLtpXzyEC8TNP80AlyvYg==',\n",
       "                i2: 'A4YE1Brv5/iegRgertfYjg==',\n",
       "                zh: 'Lu11UPKpct80h4UpHjnFr7549vZ5EGi2V7KjmFdfcoc=',\n",
       "                uh: 'SLdVolODg++SO356HusO5I/hbfOpiiOxQXj62i/MUkA=',\n",
       "                hh: '1iL0YmRIkuteIeg9zu2NzR9zkRexldgCzJYoCkFcSM8=',\n",
       "            }\n",
       "        };\n",
       "        var trkjs = document.createElement('img');\n",
       "        trkjs.setAttribute('src', '/cdn-cgi/images/trace/captcha/js/transparent.gif?ray=7cbc540a88c67d98');\n",
       "        trkjs.setAttribute('alt', '');\n",
       "        trkjs.setAttribute('style', 'display: none');\n",
       "        document.body.appendChild(trkjs);\n",
       "        var cpo = document.createElement('script');\n",
       "        cpo.src = '/cdn-cgi/challenge-platform/h/g/orchestrate/captcha/v1?ray=7cbc540a88c67d98';\n",
       "        window._cf_chl_opt.cOgUHash = location.hash === '' && location.href.indexOf('#') !== -1 ? '#' : location.hash;\n",
       "        window._cf_chl_opt.cOgUQuery = location.search === '' && location.href.slice(0, location.href.length - window._cf_chl_opt.cOgUHash.length).indexOf('?') !== -1 ? '?' : location.search;\n",
       "        if (window.history && window.history.replaceState) {\n",
       "            var ogU = location.pathname + window._cf_chl_opt.cOgUQuery + window._cf_chl_opt.cOgUHash;\n",
       "            history.replaceState(null, null, \"\\/c\\/40\\/single-malt-scotch-whisky?pg=1&__cf_chl_rt_tk=Mi1vlkgG49ExGuNtTTZVNw8QjPZGL.rx0ddyzjEaYOA-1684834730-0-gaNycGzNChA\" + window._cf_chl_opt.cOgUHash);\n",
       "            cpo.onload = function() {\n",
       "                history.replaceState(null, null, ogU);\n",
       "            };\n",
       "        }\n",
       "        document.getElementsByTagName('head')[0].appendChild(cpo);\n",
       "    }());\n",
       "</script>\n",
       "</body>\n",
       "</html>"
      ]
     },
     "execution_count": 34,
     "metadata": {},
     "output_type": "execute_result"
    }
   ],
   "source": [
    "soup"
   ]
  },
  {
   "cell_type": "code",
   "execution_count": 25,
   "metadata": {},
   "outputs": [],
   "source": [
    "proudcts_info_content = scraper.get_page_content(soup)\n",
    "proudcts_info_price = scraper.get_page_price(soup)"
   ]
  },
  {
   "cell_type": "code",
   "execution_count": 26,
   "metadata": {},
   "outputs": [],
   "source": [
    "product_name = scraper.get_product_name(proudcts_info_content)\n",
    "product_al_percent = scraper.get_product_alcohol_percent(proudcts_info_content)\n",
    "product_al_amount = scraper.get_product_alcohol_amount(proudcts_info_content)\n",
    "product_price = scraper.get_product_price(proudcts_info_price)"
   ]
  },
  {
   "cell_type": "code",
   "execution_count": 27,
   "metadata": {},
   "outputs": [
    {
     "data": {
      "text/html": [
       "<div>\n",
       "<style scoped>\n",
       "    .dataframe tbody tr th:only-of-type {\n",
       "        vertical-align: middle;\n",
       "    }\n",
       "\n",
       "    .dataframe tbody tr th {\n",
       "        vertical-align: top;\n",
       "    }\n",
       "\n",
       "    .dataframe thead th {\n",
       "        text-align: right;\n",
       "    }\n",
       "</style>\n",
       "<table border=\"1\" class=\"dataframe\">\n",
       "  <thead>\n",
       "    <tr style=\"text-align: right;\">\n",
       "      <th></th>\n",
       "      <th>Product_Name</th>\n",
       "      <th>Alcohol_Percent</th>\n",
       "      <th>Alcohol_Amount</th>\n",
       "      <th>Alcohol_Price</th>\n",
       "    </tr>\n",
       "  </thead>\n",
       "  <tbody>\n",
       "  </tbody>\n",
       "</table>\n",
       "</div>"
      ],
      "text/plain": [
       "Empty DataFrame\n",
       "Columns: [Product_Name, Alcohol_Percent, Alcohol_Amount, Alcohol_Price]\n",
       "Index: []"
      ]
     },
     "execution_count": 27,
     "metadata": {},
     "output_type": "execute_result"
    }
   ],
   "source": [
    "df = scraper.create_df(names=product_name, alcohol_amount=product_al_amount,\n",
    "                       alcohol_percent=product_al_percent, price= product_price )\n",
    "df.head()"
   ]
  }
 ],
 "metadata": {
  "kernelspec": {
   "display_name": "Python 3",
   "language": "python",
   "name": "python3"
  },
  "language_info": {
   "codemirror_mode": {
    "name": "ipython",
    "version": 3
   },
   "file_extension": ".py",
   "mimetype": "text/x-python",
   "name": "python",
   "nbconvert_exporter": "python",
   "pygments_lexer": "ipython3",
   "version": "3.10.6"
  },
  "orig_nbformat": 4
 },
 "nbformat": 4,
 "nbformat_minor": 2
}
