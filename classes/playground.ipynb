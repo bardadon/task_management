{
 "cells": [
  {
   "cell_type": "code",
   "execution_count": 4,
   "metadata": {},
   "outputs": [
    {
     "name": "stdout",
     "output_type": "stream",
     "text": [
      "[(1235, 'John', 'doe', '123', datetime.datetime(2023, 5, 23, 11, 21, 29, 670478), datetime.datetime(2023, 5, 23, 11, 21, 29, 670484)), (1238, 'John', 'doe', '123', datetime.datetime(2023, 5, 23, 11, 22, 9, 378501), datetime.datetime(2023, 5, 23, 11, 22, 9, 378506)), (2505, 'John', 'John@gmail.com', '123456', datetime.datetime(2023, 5, 29, 12, 37, 57, 950274), datetime.datetime(2023, 5, 29, 12, 37, 57, 950274)), (2506, 'John', 'John@gmail.com', '123456', datetime.datetime(2023, 5, 29, 12, 37, 57, 950274), datetime.datetime(2023, 5, 29, 12, 37, 57, 950274))]\n",
      "[(1038, 2506, 'Project 1', 'This is a project', datetime.datetime(2023, 5, 29, 12, 37, 57, 950277), datetime.datetime(2023, 5, 29, 12, 37, 57, 950277), datetime.datetime(2024, 5, 28, 12, 37, 57, 950278))]\n"
     ]
    }
   ],
   "source": [
    "import sys\n",
    "sys.path.append('/projects/task_management')\n",
    "\n",
    "from classes.comment import Comment\n",
    "from classes.system import System\n",
    "from classes.user import User\n",
    "from classes.project import Project\n",
    "from classes.notification import Notification\n",
    "from classes.task import Task\n",
    "\n",
    "# demonstation of the classes\n",
    "\n",
    "# Create a system instance\n",
    "system = System()\n",
    "\n",
    "# Create a user\n",
    "john = User(name = 'John',email='John@gmail.com', password='123456')\n",
    "\n",
    "# Create a project\n",
    "johns_project = john.create_project(title='Project 1', description='This is a project')\n",
    "\n",
    "# Create a task\n",
    "johns_task = johns_project.create_task(title='Task 1', description='This is a task')\n",
    "\n",
    "# Create a notification\n",
    "johns_notification = johns_task.create_notification('This is a notification')\n",
    "\n",
    "# Create a comment\n",
    "johns_comment = johns_task.create_comment('This is a comment')\n",
    "\n",
    "# After generating these objects, let's verify that they are in the database\n",
    "## insert images from the db\n",
    "\n"
   ]
  },
  {
   "cell_type": "code",
   "execution_count": 6,
   "metadata": {},
   "outputs": [
    {
     "name": "stdout",
     "output_type": "stream",
     "text": [
      "Connected to database successfully\n"
     ]
    }
   ],
   "source": [
    "import sys\n",
    "sys.path.append('/projects/task_management')\n",
    "\n",
    "from classes.system import System\n",
    "\n",
    "# Create a system instance\n",
    "system = System()\n",
    "\n",
    "# Connect to the database\n",
    "conn = system.connect_to_db()\n",
    "\n",
    "# Verify connection\n",
    "if conn.status == 1:\n",
    "    print('Connected to database successfully')\n",
    "else:\n",
    "    print('Failed to connect to database')"
   ]
  },
  {
   "cell_type": "code",
   "execution_count": 9,
   "metadata": {},
   "outputs": [
    {
     "name": "stdout",
     "output_type": "stream",
     "text": [
      "2\n"
     ]
    }
   ],
   "source": [
    "import sys\n",
    "sys.path.append('/projects/task_management')\n",
    "\n",
    "from classes.system import System\n",
    "from classes.user import User\n",
    "from classes.project import Project\n",
    "\n",
    "# Create a system instance\n",
    "system = System()\n",
    "\n",
    "# Create a user\n",
    "john = User(name = 'John',email='John@gmail.com', password='123456')\n",
    "\n",
    "# Using the new user to create a project\n",
    "johns_project = john.create_project(title='Project 1', description='This is a project')\n",
    "\n",
    "print(john.id)"
   ]
  }
 ],
 "metadata": {
  "kernelspec": {
   "display_name": "Python 3",
   "language": "python",
   "name": "python3"
  },
  "language_info": {
   "codemirror_mode": {
    "name": "ipython",
    "version": 3
   },
   "file_extension": ".py",
   "mimetype": "text/x-python",
   "name": "python",
   "nbconvert_exporter": "python",
   "pygments_lexer": "ipython3",
   "version": "3.10.6"
  },
  "orig_nbformat": 4
 },
 "nbformat": 4,
 "nbformat_minor": 2
}
