{
 "cells": [
  {
   "cell_type": "code",
   "execution_count": 17,
   "metadata": {},
   "outputs": [
    {
     "name": "stdout",
     "output_type": "stream",
     "text": [
      "Connected to database\n"
     ]
    },
    {
     "ename": "TypeError",
     "evalue": "System.insert_project() takes 6 positional arguments but 7 were given",
     "output_type": "error",
     "traceback": [
      "\u001b[0;31m---------------------------------------------------------------------------\u001b[0m",
      "\u001b[0;31mTypeError\u001b[0m                                 Traceback (most recent call last)",
      "\u001b[1;32m/projects/task_management/classes/playground.ipynb Cell 1\u001b[0m in \u001b[0;36m1\n\u001b[1;32m      <a href='vscode-notebook-cell://wsl%2Bubuntu-22.04/projects/task_management/classes/playground.ipynb#W0sdnNjb2RlLXJlbW90ZQ%3D%3D?line=8'>9</a>\u001b[0m \u001b[39mfrom\u001b[39;00m \u001b[39mclasses\u001b[39;00m\u001b[39m.\u001b[39;00m\u001b[39msystem\u001b[39;00m \u001b[39mimport\u001b[39;00m System\n\u001b[1;32m     <a href='vscode-notebook-cell://wsl%2Bubuntu-22.04/projects/task_management/classes/playground.ipynb#W0sdnNjb2RlLXJlbW90ZQ%3D%3D?line=10'>11</a>\u001b[0m bar \u001b[39m=\u001b[39m User(name\u001b[39m=\u001b[39m\u001b[39m'\u001b[39m\u001b[39mbar\u001b[39m\u001b[39m'\u001b[39m, email\u001b[39m=\u001b[39m\u001b[39m'\u001b[39m\u001b[39mbar@bar.com\u001b[39m\u001b[39m'\u001b[39m, password\u001b[39m=\u001b[39m\u001b[39m'\u001b[39m\u001b[39mbar\u001b[39m\u001b[39m'\u001b[39m)\n\u001b[0;32m---> <a href='vscode-notebook-cell://wsl%2Bubuntu-22.04/projects/task_management/classes/playground.ipynb#W0sdnNjb2RlLXJlbW90ZQ%3D%3D?line=11'>12</a>\u001b[0m project \u001b[39m=\u001b[39m Project(\u001b[39m'\u001b[39;49m\u001b[39mProject 1\u001b[39;49m\u001b[39m'\u001b[39;49m, \u001b[39m'\u001b[39;49m\u001b[39mThis is a project\u001b[39;49m\u001b[39m'\u001b[39;49m, datetime\u001b[39m.\u001b[39;49mdatetime(\u001b[39m2023\u001b[39;49m,\u001b[39m1\u001b[39;49m,\u001b[39m1\u001b[39;49m), datetime\u001b[39m.\u001b[39;49mdatetime(\u001b[39m2023\u001b[39;49m,\u001b[39m1\u001b[39;49m,\u001b[39m1\u001b[39;49m), datetime\u001b[39m.\u001b[39;49mdatetime(\u001b[39m2023\u001b[39;49m,\u001b[39m1\u001b[39;49m,\u001b[39m1\u001b[39;49m))\n\u001b[1;32m     <a href='vscode-notebook-cell://wsl%2Bubuntu-22.04/projects/task_management/classes/playground.ipynb#W0sdnNjb2RlLXJlbW90ZQ%3D%3D?line=13'>14</a>\u001b[0m bar\u001b[39m.\u001b[39mprojects\n",
      "File \u001b[0;32m/projects/task_management/classes/project.py:26\u001b[0m, in \u001b[0;36mProject.__init__\u001b[0;34m(self, title, description, create_date, update_date, end_date)\u001b[0m\n\u001b[1;32m     23\u001b[0m \u001b[39mid\u001b[39m \u001b[39m=\u001b[39m last_id \u001b[39m+\u001b[39m \u001b[39m1\u001b[39m\n\u001b[1;32m     25\u001b[0m \u001b[39m# Insert project to db\u001b[39;00m\n\u001b[0;32m---> 26\u001b[0m Project\u001b[39m.\u001b[39;49msystem\u001b[39m.\u001b[39;49minsert_project(\u001b[39mid\u001b[39;49m, title, description, create_date, update_date, end_date) \n\u001b[1;32m     27\u001b[0m \u001b[39mself\u001b[39m\u001b[39m.\u001b[39m_id \u001b[39m=\u001b[39m \u001b[39mid\u001b[39m\n",
      "\u001b[0;31mTypeError\u001b[0m: System.insert_project() takes 6 positional arguments but 7 were given"
     ]
    }
   ],
   "source": [
    "import os\n",
    "import sys\n",
    "import datetime\n",
    "\n",
    "sys.path.append('/projects/task_management')\n",
    "\n",
    "from classes.project import Project\n",
    "from classes.user import User\n",
    "from classes.system import System\n",
    "\n",
    "bar = User(name='bar', email='bar@bar.com', password='bar')\n",
    "\n"
   ]
  },
  {
   "cell_type": "code",
   "execution_count": 20,
   "metadata": {},
   "outputs": [
    {
     "name": "stdout",
     "output_type": "stream",
     "text": [
      "Unexpected exception formatting exception. Falling back to standard exception\n"
     ]
    },
    {
     "name": "stderr",
     "output_type": "stream",
     "text": [
      "Traceback (most recent call last):\n",
      "  File \"/usr/local/lib/python3.10/dist-packages/IPython/core/interactiveshell.py\", line 3378, in run_code\n",
      "    exec(code_obj, self.user_global_ns, self.user_ns)\n",
      "  File \"/tmp/ipykernel_5608/3601285265.py\", line 1, in <module>\n",
      "    a = bar.create_project(title='bar', description='bar', end_date=datetime.datetime(2023,1,1))\n",
      "  File \"/projects/task_management/classes/user.py\", line 85, in create_project\n",
      "  File \"/projects/task_management/classes/project.py\", line 26, in __init__\n",
      "    Project.system.insert_project(id, title, description, create_date, update_date, end_date)\n",
      "TypeError: System.insert_project() takes 6 positional arguments but 7 were given\n",
      "\n",
      "During handling of the above exception, another exception occurred:\n",
      "\n",
      "Traceback (most recent call last):\n",
      "  File \"/usr/local/lib/python3.10/dist-packages/IPython/core/interactiveshell.py\", line 1997, in showtraceback\n",
      "    stb = self.InteractiveTB.structured_traceback(\n",
      "  File \"/usr/local/lib/python3.10/dist-packages/IPython/core/ultratb.py\", line 1112, in structured_traceback\n",
      "    return FormattedTB.structured_traceback(\n",
      "  File \"/usr/local/lib/python3.10/dist-packages/IPython/core/ultratb.py\", line 1006, in structured_traceback\n",
      "    return VerboseTB.structured_traceback(\n",
      "  File \"/usr/local/lib/python3.10/dist-packages/IPython/core/ultratb.py\", line 859, in structured_traceback\n",
      "    formatted_exception = self.format_exception_as_a_whole(etype, evalue, etb, number_of_lines_of_context,\n",
      "  File \"/usr/local/lib/python3.10/dist-packages/IPython/core/ultratb.py\", line 812, in format_exception_as_a_whole\n",
      "    frames.append(self.format_record(r))\n",
      "  File \"/usr/local/lib/python3.10/dist-packages/IPython/core/ultratb.py\", line 730, in format_record\n",
      "    result += ''.join(_format_traceback_lines(frame_info.lines, Colors, self.has_colors, lvals))\n",
      "  File \"/usr/local/lib/python3.10/dist-packages/stack_data/utils.py\", line 145, in cached_property_wrapper\n",
      "    value = obj.__dict__[self.func.__name__] = self.func(obj)\n",
      "  File \"/usr/local/lib/python3.10/dist-packages/stack_data/core.py\", line 734, in lines\n",
      "    pieces = self.included_pieces\n",
      "  File \"/usr/local/lib/python3.10/dist-packages/stack_data/utils.py\", line 145, in cached_property_wrapper\n",
      "    value = obj.__dict__[self.func.__name__] = self.func(obj)\n",
      "  File \"/usr/local/lib/python3.10/dist-packages/stack_data/core.py\", line 681, in included_pieces\n",
      "    pos = scope_pieces.index(self.executing_piece)\n",
      "  File \"/usr/local/lib/python3.10/dist-packages/stack_data/utils.py\", line 145, in cached_property_wrapper\n",
      "    value = obj.__dict__[self.func.__name__] = self.func(obj)\n",
      "  File \"/usr/local/lib/python3.10/dist-packages/stack_data/core.py\", line 660, in executing_piece\n",
      "    return only(\n",
      "  File \"/usr/local/lib/python3.10/dist-packages/executing/executing.py\", line 168, in only\n",
      "    raise NotOneValueFound('Expected one value, found 0')\n",
      "executing.executing.NotOneValueFound: Expected one value, found 0\n"
     ]
    }
   ],
   "source": [
    "a = bar.create_project(title='bar', description='bar', end_date=datetime.datetime(2023,1,1))"
   ]
  },
  {
   "cell_type": "code",
   "execution_count": 15,
   "metadata": {},
   "outputs": [
    {
     "ename": "TypeError",
     "evalue": "System.insert_project() takes 6 positional arguments but 7 were given",
     "output_type": "error",
     "traceback": [
      "\u001b[0;31m---------------------------------------------------------------------------\u001b[0m",
      "\u001b[0;31mTypeError\u001b[0m                                 Traceback (most recent call last)",
      "\u001b[1;32m/projects/task_management/classes/playground.ipynb Cell 3\u001b[0m in \u001b[0;36m3\n\u001b[1;32m      <a href='vscode-notebook-cell://wsl%2Bubuntu-22.04/projects/task_management/classes/playground.ipynb#W2sdnNjb2RlLXJlbW90ZQ%3D%3D?line=0'>1</a>\u001b[0m \u001b[39mfrom\u001b[39;00m \u001b[39mclasses\u001b[39;00m\u001b[39m.\u001b[39;00m\u001b[39mproject\u001b[39;00m \u001b[39mimport\u001b[39;00m Project\n\u001b[0;32m----> <a href='vscode-notebook-cell://wsl%2Bubuntu-22.04/projects/task_management/classes/playground.ipynb#W2sdnNjb2RlLXJlbW90ZQ%3D%3D?line=2'>3</a>\u001b[0m project \u001b[39m=\u001b[39m Project(\u001b[39m'\u001b[39;49m\u001b[39mProject 1\u001b[39;49m\u001b[39m'\u001b[39;49m, \u001b[39m'\u001b[39;49m\u001b[39mThis is a project\u001b[39;49m\u001b[39m'\u001b[39;49m)\n",
      "File \u001b[0;32m/projects/task_management/classes/project.py:26\u001b[0m, in \u001b[0;36mProject.__init__\u001b[0;34m(self, title, description, create_date, update_date, end_date)\u001b[0m\n\u001b[1;32m     23\u001b[0m \u001b[39mid\u001b[39m \u001b[39m=\u001b[39m last_id \u001b[39m+\u001b[39m \u001b[39m1\u001b[39m\n\u001b[1;32m     25\u001b[0m \u001b[39m# Insert project to db\u001b[39;00m\n\u001b[0;32m---> 26\u001b[0m Project\u001b[39m.\u001b[39;49msystem\u001b[39m.\u001b[39;49minsert_project(\u001b[39mid\u001b[39;49m, title, description, create_date, update_date, end_date) \n\u001b[1;32m     27\u001b[0m \u001b[39mself\u001b[39m\u001b[39m.\u001b[39m_id \u001b[39m=\u001b[39m \u001b[39mid\u001b[39m\n",
      "\u001b[0;31mTypeError\u001b[0m: System.insert_project() takes 6 positional arguments but 7 were given"
     ]
    }
   ],
   "source": [
    "from classes.project import Project\n",
    "\n",
    "project = Project('Project 1', 'This is a project')"
   ]
  },
  {
   "cell_type": "code",
   "execution_count": null,
   "metadata": {},
   "outputs": [],
   "source": []
  },
  {
   "cell_type": "code",
   "execution_count": null,
   "metadata": {},
   "outputs": [],
   "source": []
  },
  {
   "cell_type": "code",
   "execution_count": null,
   "metadata": {},
   "outputs": [],
   "source": []
  },
  {
   "cell_type": "code",
   "execution_count": null,
   "metadata": {},
   "outputs": [],
   "source": []
  },
  {
   "cell_type": "code",
   "execution_count": null,
   "metadata": {
    "vscode": {
     "languageId": "shellscript"
    }
   },
   "outputs": [],
   "source": [
    "# use git to push to github\n",
    "\n",
    "# Path: classes/playground.ipynb\n",
    "\n",
    "# first step: git init\n",
    "\n",
    "# second step: git add .\n",
    "\n",
    "# third step: git commit -m \"first commit\"\n",
    "\n",
    "# fourth step: git remote add origin\n",
    "\n",
    "# fifth step: git push -u origin master\n",
    "\n",
    "# Path: classes/playground.ipynb\n"
   ]
  },
  {
   "cell_type": "code",
   "execution_count": null,
   "metadata": {},
   "outputs": [],
   "source": []
  },
  {
   "cell_type": "code",
   "execution_count": null,
   "metadata": {},
   "outputs": [],
   "source": []
  },
  {
   "cell_type": "code",
   "execution_count": null,
   "metadata": {},
   "outputs": [],
   "source": []
  }
 ],
 "metadata": {
  "kernelspec": {
   "display_name": "Python 3",
   "language": "python",
   "name": "python3"
  },
  "language_info": {
   "codemirror_mode": {
    "name": "ipython",
    "version": 3
   },
   "file_extension": ".py",
   "mimetype": "text/x-python",
   "name": "python",
   "nbconvert_exporter": "python",
   "pygments_lexer": "ipython3",
   "version": "3.10.6"
  },
  "orig_nbformat": 4
 },
 "nbformat": 4,
 "nbformat_minor": 2
}
